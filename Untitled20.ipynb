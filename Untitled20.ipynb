{
  "nbformat": 4,
  "nbformat_minor": 0,
  "metadata": {
    "colab": {
      "name": "Untitled20.ipynb",
      "version": "0.3.2",
      "provenance": []
    },
    "kernelspec": {
      "name": "python3",
      "display_name": "Python 3"
    }
  },
  "cells": [
    {
      "cell_type": "markdown",
      "metadata": {
        "id": "view-in-github",
        "colab_type": "text"
      },
      "source": [
        "[View in Colaboratory](https://colab.research.google.com/github/the-creepy-1/myrep/blob/master/Untitled20.ipynb)"
      ]
    },
    {
      "metadata": {
        "id": "lrM5M4PHv25I",
        "colab_type": "code",
        "colab": {
          "base_uri": "https://localhost:8080/",
          "height": 35
        },
        "outputId": "2c52a1a2-16a0-4822-d303-85aab6e7190f"
      },
      "cell_type": "code",
      "source": [
        "def readcsv(batch_size,file_name,records_default):\n",
        "  filename_queue = tf.train.string_input_producer([os.path.dirname(__file__)+\"/\"+file_name])\n",
        "  reader = tf.TextLineReader(skip_header_lines = 1)\n",
        "  key,value = reader.read(filename_queue)\n",
        "  decoded = tf.decode_csv(value,record_defaults = record_defaults)\n",
        "  return tf.train.shuffle_batch(decoded,batch_size = batch_size,capacity = batch_size*50,min_after_dequeue = batch_size)\n"
      ],
      "execution_count": 3,
      "outputs": [
        {
          "output_type": "stream",
          "text": [
            "datalab  train.csv\r\n"
          ],
          "name": "stdout"
        }
      ]
    }
  ]
}